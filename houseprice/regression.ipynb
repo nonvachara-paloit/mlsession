{
 "cells": [
  {
   "cell_type": "code",
   "execution_count": 143,
   "id": "0dd9b5c1",
   "metadata": {},
   "outputs": [],
   "source": [
    "from sklearn import tree\n",
    "import pandas as pd\n",
    "import numpy as np\n",
    "from sklearn.model_selection import train_test_split\n",
    "from sklearn.linear_model import LinearRegression\n",
    "from sklearn.metrics import mean_squared_error\n",
    "import seaborn as sns"
   ]
  },
  {
   "cell_type": "code",
   "execution_count": 144,
   "id": "a6dc7702",
   "metadata": {},
   "outputs": [],
   "source": [
    "df = pd.read_csv('./train.csv')"
   ]
  },
  {
   "cell_type": "code",
   "execution_count": 145,
   "id": "04e00cf5",
   "metadata": {},
   "outputs": [],
   "source": [
    "df123 = df[df[\"OverallQual\"].isin([1,2,3])]\n",
    "df = df[df[\"OverallQual\"].isin([4,5,6])]"
   ]
  },
  {
   "cell_type": "markdown",
   "id": "e8c47803",
   "metadata": {},
   "source": [
    "- OverallQual\n",
    "- BsmtQual\n",
    "- Neighborhood\n",
    "- 1stFlrSF\n",
    "- 2ndFlrSF"
   ]
  },
  {
   "cell_type": "code",
   "execution_count": 148,
   "id": "7c905276",
   "metadata": {},
   "outputs": [],
   "source": [
    "cols = [\"1stFlrSF\", \"2ndFlrSF\", \"LotArea\", \"TotalBsmtSF\", \"BedroomAbvGr\"]"
   ]
  },
  {
   "cell_type": "code",
   "execution_count": 149,
   "id": "30597fd0",
   "metadata": {},
   "outputs": [],
   "source": [
    "# X = df[[\"1stFlrSF\", \"2ndFlrSF\", \"Neighborhood\", \"BsmtQual\", \"OverallQual\"]]\n",
    "X = df[cols]"
   ]
  },
  {
   "cell_type": "code",
   "execution_count": 150,
   "id": "7c4f0d65",
   "metadata": {},
   "outputs": [],
   "source": [
    "y = df[\"SalePrice\"]"
   ]
  },
  {
   "cell_type": "code",
   "execution_count": 151,
   "id": "58573799",
   "metadata": {},
   "outputs": [],
   "source": [
    "reg = LinearRegression().fit(X, y)"
   ]
  },
  {
   "cell_type": "code",
   "execution_count": 152,
   "id": "05c11a24",
   "metadata": {},
   "outputs": [],
   "source": [
    "y_hat = reg.predict(X)"
   ]
  },
  {
   "cell_type": "code",
   "execution_count": 153,
   "id": "bcca43b9",
   "metadata": {},
   "outputs": [
    {
     "data": {
      "text/plain": [
       "649464887.3598176"
      ]
     },
     "execution_count": 153,
     "metadata": {},
     "output_type": "execute_result"
    }
   ],
   "source": [
    "mean_squared_error(y, y_hat)"
   ]
  },
  {
   "cell_type": "code",
   "execution_count": null,
   "id": "9af33fde",
   "metadata": {},
   "outputs": [],
   "source": [
    "672205948.3940336"
   ]
  },
  {
   "cell_type": "code",
   "execution_count": null,
   "id": "44f7f2bc",
   "metadata": {},
   "outputs": [],
   "source": [
    "649464887.3598176"
   ]
  },
  {
   "cell_type": "code",
   "execution_count": 154,
   "id": "63a1c6ff",
   "metadata": {},
   "outputs": [
    {
     "data": {
      "text/plain": [
       "236786427.26620555"
      ]
     },
     "execution_count": 154,
     "metadata": {},
     "output_type": "execute_result"
    }
   ],
   "source": [
    "X123 = df123[cols]\n",
    "y123 = df123[\"SalePrice\"]\n",
    "reg123 = LinearRegression().fit(X123, y123)\n",
    "y123_hat = reg123.predict(X123)\n",
    "mean_squared_error(y123, y123_hat)"
   ]
  },
  {
   "cell_type": "code",
   "execution_count": 112,
   "id": "c779bbda",
   "metadata": {},
   "outputs": [],
   "source": [
    "260593533.99564606"
   ]
  },
  {
   "cell_type": "code",
   "execution_count": 113,
   "id": "b65e007c",
   "metadata": {},
   "outputs": [
    {
     "data": {
      "text/plain": [
       "1     181500\n",
       "5     143000\n",
       "9     118000\n",
       "10    129500\n",
       "12    144000\n",
       "14    157000\n",
       "16    149000\n",
       "17     90000\n",
       "18    159000\n",
       "19    139000\n",
       "Name: SalePrice, dtype: int64"
      ]
     },
     "execution_count": 113,
     "metadata": {},
     "output_type": "execute_result"
    }
   ],
   "source": [
    "y[0:10]"
   ]
  },
  {
   "cell_type": "code",
   "execution_count": 114,
   "id": "f22b82dd",
   "metadata": {},
   "outputs": [
    {
     "data": {
      "text/plain": [
       "array([150304.36150847, 143309.72176404, 131496.67296192, 134208.48821455,\n",
       "       125499.76401642, 150500.64861805, 131450.60688408, 108253.10533223,\n",
       "       141621.77991375, 144002.3468761 ])"
      ]
     },
     "execution_count": 114,
     "metadata": {},
     "output_type": "execute_result"
    }
   ],
   "source": [
    "y_hat[0:10]"
   ]
  },
  {
   "cell_type": "code",
   "execution_count": 115,
   "id": "07c56911",
   "metadata": {},
   "outputs": [
    {
     "data": {
      "text/plain": [
       "1       31195.638492\n",
       "5        -309.721764\n",
       "9      -13496.672962\n",
       "10      -4708.488215\n",
       "12      18500.235984\n",
       "            ...     \n",
       "1453   -61515.465879\n",
       "1455    17851.364575\n",
       "1456    13161.625631\n",
       "1458     5979.069854\n",
       "1459    -2567.999661\n",
       "Name: SalePrice, Length: 887, dtype: float64"
      ]
     },
     "execution_count": 115,
     "metadata": {},
     "output_type": "execute_result"
    }
   ],
   "source": [
    "y - y_hat"
   ]
  },
  {
   "cell_type": "code",
   "execution_count": 78,
   "id": "07ca2499",
   "metadata": {},
   "outputs": [
    {
     "data": {
      "text/plain": [
       "2420913519.9640913"
      ]
     },
     "execution_count": 78,
     "metadata": {},
     "output_type": "execute_result"
    }
   ],
   "source": [
    "np.average((y - y_hat) * (y - y_hat))"
   ]
  },
  {
   "cell_type": "code",
   "execution_count": 116,
   "id": "569b460c",
   "metadata": {},
   "outputs": [
    {
     "data": {
      "text/plain": [
       "1748707571.5700579"
      ]
     },
     "execution_count": 116,
     "metadata": {},
     "output_type": "execute_result"
    }
   ],
   "source": [
    "2420913519.9640913 - 672205948.3940336"
   ]
  },
  {
   "cell_type": "code",
   "execution_count": 79,
   "id": "354cdd5b",
   "metadata": {},
   "outputs": [
    {
     "data": {
      "text/plain": [
       "array([80.17619296, 83.90284572,  0.22090919, 66.46712149])"
      ]
     },
     "execution_count": 79,
     "metadata": {},
     "output_type": "execute_result"
    }
   ],
   "source": [
    "reg.coef_"
   ]
  },
  {
   "cell_type": "code",
   "execution_count": 80,
   "id": "5061cece",
   "metadata": {},
   "outputs": [
    {
     "data": {
      "text/plain": [
       "-14014.998904219596"
      ]
     },
     "execution_count": 80,
     "metadata": {},
     "output_type": "execute_result"
    }
   ],
   "source": [
    "reg.intercept_"
   ]
  },
  {
   "cell_type": "code",
   "execution_count": 81,
   "id": "534e65a5",
   "metadata": {},
   "outputs": [],
   "source": [
    "from sklearn.preprocessing import Normalizer"
   ]
  },
  {
   "cell_type": "code",
   "execution_count": 82,
   "id": "0a18254f",
   "metadata": {},
   "outputs": [],
   "source": [
    "transformer = Normalizer().fit(X)"
   ]
  },
  {
   "cell_type": "code",
   "execution_count": 83,
   "id": "216a994b",
   "metadata": {},
   "outputs": [],
   "source": [
    "Xt = transformer.transform(X)"
   ]
  },
  {
   "cell_type": "code",
   "execution_count": 84,
   "id": "3d297b4b",
   "metadata": {},
   "outputs": [
    {
     "data": {
      "text/plain": [
       "array([[0.09977985, 0.09954672, 0.98497635, 0.09977985],\n",
       "       [0.12924381, 0.        , 0.98315415, 0.12924381],\n",
       "       [0.08099983, 0.0762455 , 0.99048709, 0.08099983],\n",
       "       ...,\n",
       "       [0.12823713, 0.12435116, 0.97602706, 0.12435116],\n",
       "       [0.10959889, 0.        , 0.98791506, 0.10959889],\n",
       "       [0.12442412, 0.        , 0.98439691, 0.12442412]])"
      ]
     },
     "execution_count": 84,
     "metadata": {},
     "output_type": "execute_result"
    }
   ],
   "source": [
    "Xt"
   ]
  },
  {
   "cell_type": "code",
   "execution_count": 85,
   "id": "ca7bd64a",
   "metadata": {},
   "outputs": [],
   "source": [
    "regt = LinearRegression().fit(Xt, y)"
   ]
  },
  {
   "cell_type": "code",
   "execution_count": 86,
   "id": "faf207f3",
   "metadata": {},
   "outputs": [],
   "source": [
    "yt_hat = regt.predict(Xt)"
   ]
  },
  {
   "cell_type": "code",
   "execution_count": 87,
   "id": "cdf4460d",
   "metadata": {},
   "outputs": [
    {
     "data": {
      "text/plain": [
       "5941700415.764342"
      ]
     },
     "execution_count": 87,
     "metadata": {},
     "output_type": "execute_result"
    }
   ],
   "source": [
    "mean_squared_error(y, yt_hat)"
   ]
  },
  {
   "cell_type": "code",
   "execution_count": 88,
   "id": "e8d8280f",
   "metadata": {},
   "outputs": [
    {
     "data": {
      "text/plain": [
       "0       12782.193321\n",
       "1       -6443.119082\n",
       "2       35858.244092\n",
       "3      -40701.693996\n",
       "4       63198.547443\n",
       "            ...     \n",
       "1455   -24277.392839\n",
       "1456    39457.785349\n",
       "1457    64566.892328\n",
       "1458   -41338.805794\n",
       "1459   -39449.276094\n",
       "Name: SalePrice, Length: 1460, dtype: float64"
      ]
     },
     "execution_count": 88,
     "metadata": {},
     "output_type": "execute_result"
    }
   ],
   "source": [
    "y - yt_hat"
   ]
  },
  {
   "cell_type": "code",
   "execution_count": 89,
   "id": "903ee834",
   "metadata": {},
   "outputs": [
    {
     "data": {
      "text/plain": [
       "array([-167342.7190313 ,  220744.56535392, 1406740.40927814,\n",
       "        736277.85130329])"
      ]
     },
     "execution_count": 89,
     "metadata": {},
     "output_type": "execute_result"
    }
   ],
   "source": [
    "regt.coef_"
   ]
  },
  {
   "cell_type": "code",
   "execution_count": 90,
   "id": "c48bce34",
   "metadata": {},
   "outputs": [
    {
     "data": {
      "text/plain": [
       "-1268630.8901658638"
      ]
     },
     "execution_count": 90,
     "metadata": {},
     "output_type": "execute_result"
    }
   ],
   "source": [
    "regt.intercept_"
   ]
  },
  {
   "cell_type": "code",
   "execution_count": 132,
   "id": "80f976e5",
   "metadata": {},
   "outputs": [],
   "source": [
    "df = pd.get_dummies(df, columns=['Neighborhood'])"
   ]
  },
  {
   "cell_type": "code",
   "execution_count": 135,
   "id": "18b488dc",
   "metadata": {},
   "outputs": [
    {
     "data": {
      "text/plain": [
       "672205948.3940336"
      ]
     },
     "execution_count": 135,
     "metadata": {},
     "output_type": "execute_result"
    }
   ],
   "source": [
    "X = df[cols]\n",
    "y = df[\"SalePrice\"]\n",
    "reg = LinearRegression().fit(X, y)\n",
    "y_hat = reg.predict(X)\n",
    "mean_squared_error(y, y_hat)"
   ]
  },
  {
   "cell_type": "markdown",
   "id": "a043edd5",
   "metadata": {},
   "source": [
    "# not helping"
   ]
  },
  {
   "cell_type": "code",
   "execution_count": 140,
   "id": "7fed61da",
   "metadata": {},
   "outputs": [
    {
     "data": {
      "text/plain": [
       "array([6, 5, 4])"
      ]
     },
     "execution_count": 140,
     "metadata": {},
     "output_type": "execute_result"
    }
   ],
   "source": [
    "df['OverallQual'].unique()"
   ]
  },
  {
   "cell_type": "code",
   "execution_count": 156,
   "id": "3b8c894c",
   "metadata": {},
   "outputs": [
    {
     "data": {
      "text/plain": [
       "0.5104386792083498"
      ]
     },
     "execution_count": 156,
     "metadata": {},
     "output_type": "execute_result"
    }
   ],
   "source": [
    "reg.score(X, y)"
   ]
  },
  {
   "cell_type": "code",
   "execution_count": 158,
   "id": "9a8a5d83",
   "metadata": {},
   "outputs": [
    {
     "data": {
      "text/plain": [
       "649464887.3598176"
      ]
     },
     "execution_count": 158,
     "metadata": {},
     "output_type": "execute_result"
    }
   ],
   "source": [
    "np.average((y - y_hat) * (y - y_hat))"
   ]
  },
  {
   "cell_type": "code",
   "execution_count": 159,
   "id": "66f4de76",
   "metadata": {},
   "outputs": [
    {
     "data": {
      "text/plain": [
       "-1.0499690807389836e-12"
      ]
     },
     "execution_count": 159,
     "metadata": {},
     "output_type": "execute_result"
    }
   ],
   "source": [
    "np.average(y - np.average(y))"
   ]
  },
  {
   "cell_type": "code",
   "execution_count": 163,
   "id": "1fab3a02",
   "metadata": {},
   "outputs": [
    {
     "data": {
      "text/plain": [
       "1326626225.923226"
      ]
     },
     "execution_count": 163,
     "metadata": {},
     "output_type": "execute_result"
    }
   ],
   "source": [
    "np.var(y)"
   ]
  },
  {
   "cell_type": "code",
   "execution_count": 165,
   "id": "db5a7358",
   "metadata": {},
   "outputs": [
    {
     "data": {
      "text/plain": [
       "0.5104386792083491"
      ]
     },
     "execution_count": 165,
     "metadata": {},
     "output_type": "execute_result"
    }
   ],
   "source": [
    "1 - (np.average((y - y_hat) * (y - y_hat)) / np.var(y))"
   ]
  },
  {
   "cell_type": "code",
   "execution_count": null,
   "id": "fb83b6a5",
   "metadata": {},
   "outputs": [],
   "source": []
  }
 ],
 "metadata": {
  "kernelspec": {
   "display_name": "Python 3 (ipykernel)",
   "language": "python",
   "name": "python3"
  },
  "language_info": {
   "codemirror_mode": {
    "name": "ipython",
    "version": 3
   },
   "file_extension": ".py",
   "mimetype": "text/x-python",
   "name": "python",
   "nbconvert_exporter": "python",
   "pygments_lexer": "ipython3",
   "version": "3.7.7"
  }
 },
 "nbformat": 4,
 "nbformat_minor": 5
}
